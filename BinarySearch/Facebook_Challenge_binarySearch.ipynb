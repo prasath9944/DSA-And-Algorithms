{
  "nbformat": 4,
  "nbformat_minor": 0,
  "metadata": {
    "colab": {
      "provenance": []
    },
    "kernelspec": {
      "name": "python3",
      "display_name": "Python 3"
    },
    "language_info": {
      "name": "python"
    }
  },
  "cells": [
    {
      "cell_type": "code",
      "execution_count": 7,
      "metadata": {
        "colab": {
          "base_uri": "https://localhost:8080/"
        },
        "id": "Q5RF4-Vwi7Pd",
        "outputId": "7d7fd377-4b34-47e0-d497-fcf4a15a055e"
      },
      "outputs": [
        {
          "output_type": "stream",
          "name": "stdout",
          "text": [
            "19\n",
            "7\n"
          ]
        }
      ],
      "source": [
        "def binarySearch(arr,element,i,j):\n",
        "  mid=i+(j-i)//2\n",
        "  if arr[mid]!=element:\n",
        "    return binarySearch(arr,element,mid+1,j)\n",
        "  elif arr[mid]==element:\n",
        "    if arr[mid-1]!=element:\n",
        "      return mid\n",
        "    else:\n",
        "      return binarySearch(arr,element,i,mid-1)\n",
        "  else:\n",
        "    return -1\n",
        "\n",
        "#driver code\n",
        "arr=[20,-30,10,5,7,0,29,'inf','inf','inf','inf','inf','inf','inf','inf','inf','inf','inf','inf']\n",
        "n=len(arr)\n",
        "print(n)\n",
        "start=0\n",
        "end=n-1\n",
        "index=binarySearch(arr,'inf',start,end)\n",
        "print(index)"
      ]
    },
    {
      "cell_type": "code",
      "source": [],
      "metadata": {
        "id": "tqgDflWEkE-P"
      },
      "execution_count": null,
      "outputs": []
    }
  ]
}