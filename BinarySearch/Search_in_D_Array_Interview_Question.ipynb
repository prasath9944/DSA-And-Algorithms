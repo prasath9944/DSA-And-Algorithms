{
  "nbformat": 4,
  "nbformat_minor": 0,
  "metadata": {
    "colab": {
      "provenance": []
    },
    "kernelspec": {
      "name": "python3",
      "display_name": "Python 3"
    },
    "language_info": {
      "name": "python"
    }
  },
  "cells": [
    {
      "cell_type": "code",
      "execution_count": 3,
      "metadata": {
        "colab": {
          "base_uri": "https://localhost:8080/"
        },
        "id": "hLrX18ekr-w9",
        "outputId": "c5a4314b-e042-4638-8cfc-195f2ddb9f4d"
      },
      "outputs": [
        {
          "output_type": "stream",
          "name": "stdout",
          "text": [
            "False\n"
          ]
        }
      ],
      "source": [
        "\n",
        "# function definition\n",
        "\n",
        "def searchSortedMatrix(matrix,target):\n",
        "  # number of rows\n",
        "  m=len(matrix)\n",
        "  if m==0:\n",
        "    return False\n",
        "  # number of columns\n",
        "  n=len(matrix[0])\n",
        "  left,right=0,m*n-1\n",
        "  while left<=right:\n",
        "    mid=left+(right-left)//2\n",
        "    mid_element=matrix[mid//n][mid%n]\n",
        "    if target==mid_element:\n",
        "      return True\n",
        "    elif target<mid_element:\n",
        "      right=mid-1\n",
        "    else:\n",
        "      left=mid+1\n",
        "  return False\n",
        "\n",
        "# Driver code\n",
        "matrix=[[1,3,5,7],[10,11,16,20],[23,30,34,60]]\n",
        "target=31\n",
        "# function calling\n",
        "result=searchSortedMatrix(matrix,target)\n",
        "print(result)"
      ]
    },
    {
      "cell_type": "code",
      "source": [],
      "metadata": {
        "id": "ee9l8HcZtdAQ"
      },
      "execution_count": null,
      "outputs": []
    }
  ]
}