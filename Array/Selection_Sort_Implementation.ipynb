{
  "nbformat": 4,
  "nbformat_minor": 0,
  "metadata": {
    "colab": {
      "provenance": []
    },
    "kernelspec": {
      "name": "python3",
      "display_name": "Python 3"
    },
    "language_info": {
      "name": "python"
    }
  },
  "cells": [
    {
      "cell_type": "code",
      "execution_count": 2,
      "metadata": {
        "colab": {
          "base_uri": "https://localhost:8080/"
        },
        "id": "cI23K_iGxAzB",
        "outputId": "7ae167dd-52f9-45fc-8ebb-49e78cc74aed"
      },
      "outputs": [
        {
          "output_type": "stream",
          "name": "stdout",
          "text": [
            "Selection Sort of the given array elements is : [11, 17, 20, 29, 37, 38, 50, 75]\n"
          ]
        }
      ],
      "source": [
        "## Time Complexity : O(n^2)\n",
        "## Function Definition\n",
        "def selectionSort(arr):\n",
        "  n=len(arr)\n",
        "  for i in range(n):\n",
        "    # to store the index of the minimum element\n",
        "    min_index=i\n",
        "    for j in range(i+1,n):\n",
        "      if arr[j]<arr[min_index]:\n",
        "        min_index=j\n",
        "    # swap of the element at i and min_index\n",
        "    arr[i],arr[min_index]=arr[min_index],arr[i]\n",
        "  return arr\n",
        "# Driver Code\n",
        "arr=[50,38,75,29,11,17,20,37]\n",
        "# Function Calling\n",
        "result=selectionSort(arr)\n",
        "print(\"Selection Sort of the given array elements is :\",result)"
      ]
    },
    {
      "cell_type": "code",
      "source": [],
      "metadata": {
        "id": "fQv9xJXaycCc"
      },
      "execution_count": null,
      "outputs": []
    }
  ]
}