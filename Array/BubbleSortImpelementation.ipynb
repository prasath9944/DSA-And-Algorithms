{
  "nbformat": 4,
  "nbformat_minor": 0,
  "metadata": {
    "colab": {
      "provenance": []
    },
    "kernelspec": {
      "name": "python3",
      "display_name": "Python 3"
    },
    "language_info": {
      "name": "python"
    }
  },
  "cells": [
    {
      "cell_type": "code",
      "execution_count": 8,
      "metadata": {
        "colab": {
          "base_uri": "https://localhost:8080/"
        },
        "id": "e4fyQXArqcgb",
        "outputId": "479f17fc-4eb8-4bdc-a1a1-7a3742fb3596"
      },
      "outputs": [
        {
          "output_type": "stream",
          "name": "stdout",
          "text": [
            "After sotring the arr: [5, 15, 20, 30, 50, 70, 90]\n"
          ]
        }
      ],
      "source": [
        "\n",
        "def bubbleSort(arr):\n",
        "  n=len(arr)\n",
        "  for i in range(n-1):\n",
        "    for j in range(n-i-1):\n",
        "      if arr[j]>arr[j+1]:\n",
        "        arr[j],arr[j+1]=arr[j+1],arr[j]\n",
        "  return arr    \n",
        "\n",
        "\n",
        "\n",
        "\n",
        "arr=[70,20,50,30,90,5,15]\n",
        "sorted_arr=bubbleSort(arr)\n",
        "print(f\"After sotring the arr: {sorted_arr}\")"
      ]
    },
    {
      "cell_type": "code",
      "source": [],
      "metadata": {
        "id": "jCkdJ0WPrrR0"
      },
      "execution_count": null,
      "outputs": []
    }
  ]
}