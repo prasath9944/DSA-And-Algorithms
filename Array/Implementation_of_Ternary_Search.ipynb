{
  "nbformat": 4,
  "nbformat_minor": 0,
  "metadata": {
    "colab": {
      "provenance": []
    },
    "kernelspec": {
      "name": "python3",
      "display_name": "Python 3"
    },
    "language_info": {
      "name": "python"
    }
  },
  "cells": [
    {
      "cell_type": "code",
      "execution_count": 5,
      "metadata": {
        "colab": {
          "base_uri": "https://localhost:8080/"
        },
        "id": "1rLI0kuGKpb3",
        "outputId": "a32b2a94-2556-48bb-cea1-212fd9b3989e"
      },
      "outputs": [
        {
          "output_type": "stream",
          "name": "stdout",
          "text": [
            "Seaching element is present at index: -1\n"
          ]
        }
      ],
      "source": [
        "\n",
        "# function definition\n",
        "def ternarySearch(l,r,x,arr):\n",
        "  while l<=r:\n",
        "    mid1=l+(r-l)//3\n",
        "    mid2=r-(r-l)//3\n",
        "\n",
        "    if x==arr[mid1]:\n",
        "      return mid1\n",
        "    elif x==arr[mid2]:\n",
        "      return mid2\n",
        "    elif x<arr[mid1]:\n",
        "      return ternarySearch(l,mid1-1,x,arr)\n",
        "    elif x>arr[mid2]:\n",
        "      return ternarySearch(mid2+1,r,x,arr)\n",
        "    else:\n",
        "      return ternarySearch(mid1+1,mid2-1,x,arr)\n",
        "  return -1\n",
        "\n",
        "# Driver code\n",
        "arr=[1,2,3,4,5,6,7,8,9,10]\n",
        "l=0\n",
        "r=len(arr)-1\n",
        "x=402\n",
        "# function calling\n",
        "result=ternarySearch(l,r,x,arr)\n",
        "print(f\"Seaching element is present at index: {result}\")"
      ]
    },
    {
      "cell_type": "code",
      "source": [],
      "metadata": {
        "id": "rJfPosa2Lvko"
      },
      "execution_count": null,
      "outputs": []
    }
  ]
}